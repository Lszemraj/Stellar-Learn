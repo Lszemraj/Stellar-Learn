{
 "cells": [
  {
   "cell_type": "code",
   "execution_count": 1,
   "metadata": {},
   "outputs": [],
   "source": [
    "import numpy as np\n",
    "import os\n",
    "os.environ[\"CUDA_VISIBLE_DEVICES\"] = \"7\"\n",
    "os.environ[\n",
    "    'XLA_FLAGS'] = '--xla_gpu_cuda_data_dir=/usr/local/cuda'\n",
    "\n",
    "from absl import app\n",
    "from absl import flags\n",
    "import matplotlib.pyplot as plt\n",
    "import pickle\n",
    "import jax\n",
    "import jax.numpy as jnp\n",
    "import jax_cosmo as jc\n",
    "from tqdm import tqdm\n",
    "from jax.experimental.ode import odeint\n",
    "from base import PRNGSequence\n",
    "from jaxpm.painting import cic_paint, cic_read\n",
    "from pm import make_neural_ode_fn\n",
    "from kernels import fftk, gradient_kernel, invlaplace_kernel as laplace_kernel, longrange_kernel\n",
    "from nn import NeuralSplineFourierFilter  # the Flax version\n",
    "from jaxpm.utils import power_spectrum\n",
    "import glob\n",
    "from stellar_nn import StarCNN\n",
    "#import partial\n",
    "\n",
    "import readgadget\n",
    "import optax\n",
    "from functools import partial\n",
    "\n",
    "from flax import linen as nn\n",
    "from flax.training import train_state\n",
    "\n",
    "import jax.numpy as jnp\n",
    "import jax_cosmo as jc\n",
    "\n",
    "from distributed import fft3d, ifft3d, normal_field\n",
    "from jaxpm.growth import (dGf2a, dGfa, growth_factor, growth_factor_second,\n",
    "                          growth_rate, growth_rate_second)\n",
    "from jaxpm.kernels import (PGD_kernel, fftk, gradient_kernel,\n",
    "                           invlaplace_kernel, longrange_kernel)\n",
    "from jaxpm.painting import cic_paint, cic_read\n",
    "from stellar_nn import StarCNN\n",
    "\n",
    "from flax.training import train_state"
   ]
  },
  {
   "cell_type": "code",
   "execution_count": 2,
   "metadata": {},
   "outputs": [
    {
     "data": {
      "text/plain": [
       "'\\ndef make_nn_stellar_ode_fn(model, mesh_shape):\\n\\n    def neural_stellarbody_ode(state, a, cosmo, params):\\n        \"\"\"\\n        state is (position, velocities, density)\\n        \"\"\"\\n\\n        pos, vel, den = state\\n        delta = cic_paint(jnp.zeros(mesh_shape), pos)\\n        print(delta.shape, pos.shape, vel.shape)\\n        delta_k = jnp.fft.rfftn(delta)\\n        #print(delta_k.shape)\\n        kvec = fftk(delta.shape)\\n\\n        # gravitational potential calc\\n        pot_k = delta_k * invlaplace_kernel(kvec) * longrange_kernel(kvec,\\n                                                                     r_split=0)\\n\\n        # gravitational force calc\\n        forces = jnp.stack([\\n            cic_read(jnp.fft.irfftn(-gradient_kernel(kvec, i) * pot_k), pos)\\n            for i in range(3)\\n        ],\\n                           axis=-1)\\n\\n        forces = forces * 1.5 * cosmo.Omega_m\\n\\n        #delta_den = cic_paint(jnp.zeros(mesh_shape), den) # evolved stellar field\\n        delta_den = cic_paint(jnp.zeros(mesh_shape), pos, weight=den) \\n        sff =  delta_den**2\\n        #sff = StarCNN(delta, delta_den) # star formation field? placeholder as I don\\'t think this is right\\n        div = sff / delta \\n\\n        ddden = cic_read(div, delta) # delta density\\n        print(\"dden\", ddden)\\n        # position update\\n        dpos = 1. / (a**3 * jnp.sqrt(jc.background.Esqr(cosmo, a))) * vel\\n\\n        # velovity update \\n        dvel = 1. / (a**2 * jnp.sqrt(jc.background.Esqr(cosmo, a))) * forces\\n\\n        return dpos, dvel, ddden\\n\\n    return neural_stellarbody_ode\\n'"
      ]
     },
     "execution_count": 2,
     "metadata": {},
     "output_type": "execute_result"
    }
   ],
   "source": [
    "'''\n",
    "def make_nn_stellar_ode_fn(model, mesh_shape):\n",
    "\n",
    "    def neural_stellarbody_ode(state, a, cosmo, params):\n",
    "        \"\"\"\n",
    "        state is (position, velocities, density)\n",
    "        \"\"\"\n",
    "\n",
    "        pos, vel, den = state\n",
    "        delta = cic_paint(jnp.zeros(mesh_shape), pos)\n",
    "        print(delta.shape, pos.shape, vel.shape)\n",
    "        delta_k = jnp.fft.rfftn(delta)\n",
    "        #print(delta_k.shape)\n",
    "        kvec = fftk(delta.shape)\n",
    "\n",
    "        # gravitational potential calc\n",
    "        pot_k = delta_k * invlaplace_kernel(kvec) * longrange_kernel(kvec,\n",
    "                                                                     r_split=0)\n",
    "\n",
    "        # gravitational force calc\n",
    "        forces = jnp.stack([\n",
    "            cic_read(jnp.fft.irfftn(-gradient_kernel(kvec, i) * pot_k), pos)\n",
    "            for i in range(3)\n",
    "        ],\n",
    "                           axis=-1)\n",
    "\n",
    "        forces = forces * 1.5 * cosmo.Omega_m\n",
    "\n",
    "        #delta_den = cic_paint(jnp.zeros(mesh_shape), den) # evolved stellar field\n",
    "        delta_den = cic_paint(jnp.zeros(mesh_shape), pos, weight=den) \n",
    "        sff =  delta_den**2\n",
    "        #sff = StarCNN(delta, delta_den) # star formation field? placeholder as I don't think this is right\n",
    "        div = sff / delta \n",
    "\n",
    "        ddden = cic_read(div, delta) # delta density\n",
    "        print(\"dden\", ddden)\n",
    "        # position update\n",
    "        dpos = 1. / (a**3 * jnp.sqrt(jc.background.Esqr(cosmo, a))) * vel\n",
    "\n",
    "        # velovity update \n",
    "        dvel = 1. / (a**2 * jnp.sqrt(jc.background.Esqr(cosmo, a))) * forces\n",
    "\n",
    "        return dpos, dvel, ddden\n",
    "\n",
    "    return neural_stellarbody_ode\n",
    "'''"
   ]
  },
  {
   "cell_type": "code",
   "execution_count": 3,
   "metadata": {},
   "outputs": [
    {
     "data": {
      "text/plain": [
       "'\\ndef neural_stellarbody_ode(state, a, cosmo, params):\\n        \"\"\"\\n        state is (position, velocities, density)\\n        \"\"\"\\n\\n        pos, vel, den = state\\n        delta = cic_paint(jnp.zeros(mesh_shape), pos)\\n        print(delta.shape, pos.shape, vel.shape)\\n        delta_k = jnp.fft.rfftn(delta)\\n        #print(delta_k.shape)\\n        kvec = fftk(delta.shape)\\n\\n        # gravitational potential calc\\n        pot_k = delta_k * invlaplace_kernel(kvec) * longrange_kernel(kvec,\\n                                                                     r_split=0)\\n\\n        # gravitational force calc\\n        forces = jnp.stack([\\n            cic_read(jnp.fft.irfftn(-gradient_kernel(kvec, i) * pot_k), pos)\\n            for i in range(3)\\n        ],\\n                           axis=-1)\\n\\n        forces = forces * 1.5 * cosmo.Omega_m\\n\\n        #delta_den = cic_paint(jnp.zeros(mesh_shape), den) # evolved stellar field\\n        delta_den = cic_paint(jnp.zeros(mesh_shape), pos, weight=den) \\n        sff =  delta_den**2\\n        #sff = StarCNN(delta, delta_den) # star formation field? placeholder as I don\\'t think this is right\\n        div = sff / delta \\n\\n        ddden = cic_read(div, delta) # delta density\\n        print(\"dden\", ddden)\\n        # position update\\n        dpos = 1. / (a**3 * jnp.sqrt(jc.background.Esqr(cosmo, a))) * vel\\n\\n        # velovity update \\n        dvel = 1. / (a**2 * jnp.sqrt(jc.background.Esqr(cosmo, a))) * forces\\n\\n        return dpos, dvel, ddden\\n\\n'"
      ]
     },
     "execution_count": 3,
     "metadata": {},
     "output_type": "execute_result"
    }
   ],
   "source": [
    "'''\n",
    "def neural_stellarbody_ode(state, a, cosmo, params):\n",
    "        \"\"\"\n",
    "        state is (position, velocities, density)\n",
    "        \"\"\"\n",
    "\n",
    "        pos, vel, den = state\n",
    "        delta = cic_paint(jnp.zeros(mesh_shape), pos)\n",
    "        print(delta.shape, pos.shape, vel.shape)\n",
    "        delta_k = jnp.fft.rfftn(delta)\n",
    "        #print(delta_k.shape)\n",
    "        kvec = fftk(delta.shape)\n",
    "\n",
    "        # gravitational potential calc\n",
    "        pot_k = delta_k * invlaplace_kernel(kvec) * longrange_kernel(kvec,\n",
    "                                                                     r_split=0)\n",
    "\n",
    "        # gravitational force calc\n",
    "        forces = jnp.stack([\n",
    "            cic_read(jnp.fft.irfftn(-gradient_kernel(kvec, i) * pot_k), pos)\n",
    "            for i in range(3)\n",
    "        ],\n",
    "                           axis=-1)\n",
    "\n",
    "        forces = forces * 1.5 * cosmo.Omega_m\n",
    "\n",
    "        #delta_den = cic_paint(jnp.zeros(mesh_shape), den) # evolved stellar field\n",
    "        delta_den = cic_paint(jnp.zeros(mesh_shape), pos, weight=den) \n",
    "        sff =  delta_den**2\n",
    "        #sff = StarCNN(delta, delta_den) # star formation field? placeholder as I don't think this is right\n",
    "        div = sff / delta \n",
    "\n",
    "        ddden = cic_read(div, delta) # delta density\n",
    "        print(\"dden\", ddden)\n",
    "        # position update\n",
    "        dpos = 1. / (a**3 * jnp.sqrt(jc.background.Esqr(cosmo, a))) * vel\n",
    "\n",
    "        # velovity update \n",
    "        dvel = 1. / (a**2 * jnp.sqrt(jc.background.Esqr(cosmo, a))) * forces\n",
    "\n",
    "        return dpos, dvel, ddden\n",
    "\n",
    "'''"
   ]
  },
  {
   "cell_type": "code",
   "execution_count": 4,
   "metadata": {},
   "outputs": [],
   "source": [
    "from jaxpm.pm import linear_field, lpt, make_ode_fn"
   ]
  },
  {
   "cell_type": "code",
   "execution_count": 5,
   "metadata": {},
   "outputs": [
    {
     "name": "stderr",
     "output_type": "stream",
     "text": [
      "/home/lszemraj/miniconda3/envs/diffhydro-env/lib/python3.10/site-packages/jax/_src/numpy/array_methods.py:121: UserWarning: Explicitly requested dtype <class 'jax.numpy.int64'> requested in astype is not available, and will be truncated to dtype int32. To enable more dtypes, set the jax_enable_x64 configuration option or the JAX_ENABLE_X64 shell environment variable. See https://github.com/jax-ml/jax#current-gotchas for more.\n",
      "  return lax_numpy.astype(self, dtype, copy=copy, device=device)\n"
     ]
    }
   ],
   "source": [
    "mesh_shape = [64, 64, 64]\n",
    "box_size = [64., 64., 64.]\n",
    "snapshots = jnp.array([0.1, 0.5, 1.0])\n",
    "\n",
    "# Create a small function to generate the matter power spectrum\n",
    "k = jnp.logspace(-4, 1, 128)\n",
    "pk = jc.power.linear_matter_power(jc.Planck15(Omega_c=0.2, sigma8=0.8), k)\n",
    "pk_fn = lambda x: jnp.interp(x.reshape([-1]), k, pk).reshape(x.shape)\n",
    "\n",
    "# Create initial conditions and particles\n",
    "initial_conditions = linear_field(mesh_shape, box_size, pk_fn, seed=jax.random.PRNGKey(0))\n",
    "particles = jnp.stack(jnp.meshgrid(*[jnp.arange(s) for s in mesh_shape]),axis=-1).reshape([-1,3])\n",
    "\n",
    "# Initial displacement\n",
    "cosmo = jc.Planck15(Omega_c=0.2, sigma8=0.8)\n",
    "dx, p, f = lpt(cosmo, initial_conditions, particles, a=0.1)\n",
    "\n",
    "res = odeint(make_ode_fn(mesh_shape), [particles + dx, p], snapshots, cosmo, rtol=1e-8, atol=1e-8)"
   ]
  },
  {
   "cell_type": "code",
   "execution_count": 6,
   "metadata": {},
   "outputs": [
    {
     "data": {
      "text/plain": [
       "(3, 262144, 3)"
      ]
     },
     "execution_count": 6,
     "metadata": {},
     "output_type": "execute_result"
    }
   ],
   "source": [
    "res[0].shape"
   ]
  },
  {
   "cell_type": "code",
   "execution_count": 7,
   "metadata": {},
   "outputs": [
    {
     "name": "stdout",
     "output_type": "stream",
     "text": [
      "%pylab is deprecated, use %matplotlib inline and import the required libraries.\n",
      "Populating the interactive namespace from numpy and matplotlib\n"
     ]
    },
    {
     "name": "stderr",
     "output_type": "stream",
     "text": [
      "/home/lszemraj/miniconda3/envs/diffhydro-env/lib/python3.10/site-packages/IPython/core/magics/pylab.py:166: UserWarning: pylab import has clobbered these variables: ['f']\n",
      "`%matplotlib` prevents importing * from pylab and numpy\n",
      "  warn(\"pylab import has clobbered these variables: %s\"  % clobbered +\n"
     ]
    }
   ],
   "source": [
    "%pylab inline\n",
    "plt.plot(jnp.log10(cic_paint(jnp.zeros(mesh_shape) ,res[0][-1]) + 1)[0])\n",
    "\n",
    "plt.savefig(\"images/stellarfield.png\")"
   ]
  },
  {
   "cell_type": "code",
   "execution_count": 8,
   "metadata": {},
   "outputs": [],
   "source": [
    "def make_nn_stellar_ode_fn(mesh_shape):\n",
    "\n",
    "    def neural_stellarbody_ode(state, a, cosmo):\n",
    "        \"\"\"\n",
    "        state is (position, velocities, density)\n",
    "        \"\"\"\n",
    "\n",
    "        pos, vel, den = state\n",
    "        delta = cic_paint(jnp.zeros(mesh_shape), pos)\n",
    "        print(delta.shape, pos.shape, vel.shape)\n",
    "        delta_k = jnp.fft.rfftn(delta)\n",
    "        #print(delta_k.shape)\n",
    "        kvec = fftk(delta.shape)\n",
    "\n",
    "        # gravitational potential calc\n",
    "        pot_k = delta_k * invlaplace_kernel(kvec) * longrange_kernel(kvec,\n",
    "                                                                     r_split=0)\n",
    "\n",
    "        #  correction filter\n",
    "        kk = jnp.sqrt(sum((ki / jnp.pi)**2 for ki in kvec))\n",
    "\n",
    "        # gravitational force calc\n",
    "        forces = jnp.stack([\n",
    "            cic_read(jnp.fft.irfftn(-gradient_kernel(kvec, i) * pot_k), pos)\n",
    "            for i in range(3)\n",
    "        ],\n",
    "                           axis=-1)\n",
    "\n",
    "        forces = forces * 1.5 * cosmo.Omega_m\n",
    "        \n",
    "        delta_cnn_input = delta[None, ..., None]  # shape: (1, 64, 64, 64, 1) \n",
    "        sff = model.apply(params, delta_cnn_input)[0, ..., 0]\n",
    "\n",
    "        #sff = 0.0001*delta**2.0 # star formation field? placeholder as I don't think this is right\n",
    "        # position update\n",
    "        dpos = 1. / (a**3 * jnp.sqrt(jc.background.Esqr(cosmo, a))) * vel\n",
    "\n",
    "        # velovity update \n",
    "        dvel = 1. / (a**2 * jnp.sqrt(jc.background.Esqr(cosmo, a))) * forces\n",
    "\n",
    "        return dpos, dvel, sff\n",
    "    \n",
    "    return neural_stellarbody_ode"
   ]
  },
  {
   "cell_type": "code",
   "execution_count": 9,
   "metadata": {},
   "outputs": [
    {
     "name": "stdout",
     "output_type": "stream",
     "text": [
      "(64, 64, 64) (262144, 3) (262144, 3)\n"
     ]
    },
    {
     "name": "stderr",
     "output_type": "stream",
     "text": [
      "/tmp/ipykernel_6090/2987667466.py:20: DeprecationWarning: Calling np.sum(generator) is deprecated, and in the future will give a different result. Use np.sum(np.fromiter(generator)) or the python sum builtin instead.\n",
      "  kk = jnp.sqrt(sum((ki / jnp.pi)**2 for ki in kvec))\n"
     ]
    },
    {
     "ename": "NameError",
     "evalue": "name 'model' is not defined",
     "output_type": "error",
     "traceback": [
      "\u001b[0;31m---------------------------------------------------------------------------\u001b[0m",
      "\u001b[0;31mNameError\u001b[0m                                 Traceback (most recent call last)",
      "Cell \u001b[0;32mIn[9], line 3\u001b[0m\n\u001b[1;32m      1\u001b[0m mesh_shape \u001b[38;5;241m=\u001b[39m [\u001b[38;5;241m64\u001b[39m, \u001b[38;5;241m64\u001b[39m, \u001b[38;5;241m64\u001b[39m]\n\u001b[0;32m----> 3\u001b[0m res \u001b[38;5;241m=\u001b[39m \u001b[43modeint\u001b[49m\u001b[43m(\u001b[49m\u001b[43mmake_nn_stellar_ode_fn\u001b[49m\u001b[43m(\u001b[49m\u001b[43mmesh_shape\u001b[49m\u001b[43m)\u001b[49m\u001b[43m,\u001b[49m\u001b[43m \u001b[49m\u001b[43m[\u001b[49m\u001b[43mparticles\u001b[49m\u001b[43m \u001b[49m\u001b[38;5;241;43m+\u001b[39;49m\u001b[43m \u001b[49m\u001b[43mdx\u001b[49m\u001b[43m,\u001b[49m\u001b[43m \u001b[49m\u001b[43mp\u001b[49m\u001b[43m,\u001b[49m\u001b[43mjnp\u001b[49m\u001b[38;5;241;43m.\u001b[39;49m\u001b[43mzeros\u001b[49m\u001b[43m(\u001b[49m\u001b[43m(\u001b[49m\u001b[38;5;241;43m64\u001b[39;49m\u001b[43m,\u001b[49m\u001b[38;5;241;43m64\u001b[39;49m\u001b[43m,\u001b[49m\u001b[38;5;241;43m64\u001b[39;49m\u001b[43m)\u001b[49m\u001b[43m)\u001b[49m\u001b[43m]\u001b[49m\u001b[43m,\u001b[49m\u001b[43m \u001b[49m\u001b[43msnapshots\u001b[49m\u001b[43m,\u001b[49m\u001b[43m \u001b[49m\u001b[43mcosmo\u001b[49m\u001b[43m,\u001b[49m\u001b[43m \u001b[49m\u001b[43mrtol\u001b[49m\u001b[38;5;241;43m=\u001b[39;49m\u001b[38;5;241;43m1e-8\u001b[39;49m\u001b[43m,\u001b[49m\u001b[43m \u001b[49m\u001b[43matol\u001b[49m\u001b[38;5;241;43m=\u001b[39;49m\u001b[38;5;241;43m1e-8\u001b[39;49m\u001b[43m)\u001b[49m\n",
      "File \u001b[0;32m~/miniconda3/envs/diffhydro-env/lib/python3.10/site-packages/jax/experimental/ode.py:178\u001b[0m, in \u001b[0;36modeint\u001b[0;34m(func, y0, t, rtol, atol, mxstep, hmax, *args)\u001b[0m\n\u001b[1;32m    175\u001b[0m \u001b[38;5;28;01mif\u001b[39;00m \u001b[38;5;129;01mnot\u001b[39;00m jnp\u001b[38;5;241m.\u001b[39missubdtype(t\u001b[38;5;241m.\u001b[39mdtype, jnp\u001b[38;5;241m.\u001b[39mfloating):\n\u001b[1;32m    176\u001b[0m   \u001b[38;5;28;01mraise\u001b[39;00m \u001b[38;5;167;01mTypeError\u001b[39;00m(\u001b[38;5;124mf\u001b[39m\u001b[38;5;124m\"\u001b[39m\u001b[38;5;124mt must be an array of floats, but got \u001b[39m\u001b[38;5;132;01m{\u001b[39;00mt\u001b[38;5;132;01m}\u001b[39;00m\u001b[38;5;124m.\u001b[39m\u001b[38;5;124m\"\u001b[39m)\n\u001b[0;32m--> 178\u001b[0m converted, consts \u001b[38;5;241m=\u001b[39m \u001b[43mcustom_derivatives\u001b[49m\u001b[38;5;241;43m.\u001b[39;49m\u001b[43mclosure_convert\u001b[49m\u001b[43m(\u001b[49m\u001b[43mfunc\u001b[49m\u001b[43m,\u001b[49m\u001b[43m \u001b[49m\u001b[43my0\u001b[49m\u001b[43m,\u001b[49m\u001b[43m \u001b[49m\u001b[43mt\u001b[49m\u001b[43m[\u001b[49m\u001b[38;5;241;43m0\u001b[39;49m\u001b[43m]\u001b[49m\u001b[43m,\u001b[49m\u001b[43m \u001b[49m\u001b[38;5;241;43m*\u001b[39;49m\u001b[43margs\u001b[49m\u001b[43m)\u001b[49m\n\u001b[1;32m    179\u001b[0m \u001b[38;5;28;01mreturn\u001b[39;00m _odeint_wrapper(converted, rtol, atol, mxstep, hmax, y0, t, \u001b[38;5;241m*\u001b[39margs, \u001b[38;5;241m*\u001b[39mconsts)\n",
      "File \u001b[0;32m~/miniconda3/envs/diffhydro-env/lib/python3.10/site-packages/jax/_src/custom_derivatives.py:1098\u001b[0m, in \u001b[0;36mclosure_convert\u001b[0;34m(fun, *example_args)\u001b[0m\n\u001b[1;32m   1096\u001b[0m   \u001b[38;5;28;01mreturn\u001b[39;00m _closure_convert_for_avals\u001b[38;5;241m.\u001b[39m__wrapped__(fun, in_tree, in_avals)\n\u001b[1;32m   1097\u001b[0m \u001b[38;5;28;01melse\u001b[39;00m:\n\u001b[0;32m-> 1098\u001b[0m   \u001b[38;5;28;01mreturn\u001b[39;00m \u001b[43m_closure_convert_for_avals\u001b[49m\u001b[43m(\u001b[49m\u001b[43mfun\u001b[49m\u001b[43m,\u001b[49m\u001b[43m \u001b[49m\u001b[43min_tree\u001b[49m\u001b[43m,\u001b[49m\u001b[43m \u001b[49m\u001b[43min_avals\u001b[49m\u001b[43m)\u001b[49m\n",
      "File \u001b[0;32m~/miniconda3/envs/diffhydro-env/lib/python3.10/site-packages/jax/_src/util.py:302\u001b[0m, in \u001b[0;36mcache.<locals>.wrap.<locals>.wrapper\u001b[0;34m(*args, **kwargs)\u001b[0m\n\u001b[1;32m    300\u001b[0m \u001b[38;5;28;01mif\u001b[39;00m config\u001b[38;5;241m.\u001b[39mcheck_tracer_leaks\u001b[38;5;241m.\u001b[39mvalue:\n\u001b[1;32m    301\u001b[0m   \u001b[38;5;28;01mreturn\u001b[39;00m f(\u001b[38;5;241m*\u001b[39margs, \u001b[38;5;241m*\u001b[39m\u001b[38;5;241m*\u001b[39mkwargs)\n\u001b[0;32m--> 302\u001b[0m \u001b[38;5;28;01mreturn\u001b[39;00m \u001b[43mcached\u001b[49m\u001b[43m(\u001b[49m\u001b[43mconfig\u001b[49m\u001b[38;5;241;43m.\u001b[39;49m\u001b[43mtrace_context\u001b[49m\u001b[43m(\u001b[49m\u001b[43m)\u001b[49m\u001b[43m \u001b[49m\u001b[38;5;28;43;01mif\u001b[39;49;00m\u001b[43m \u001b[49m\u001b[43mtrace_context_in_key\u001b[49m\u001b[43m \u001b[49m\u001b[38;5;28;43;01melse\u001b[39;49;00m\u001b[43m \u001b[49m\u001b[43m_ignore\u001b[49m\u001b[43m(\u001b[49m\u001b[43m)\u001b[49m\u001b[43m,\u001b[49m\n\u001b[1;32m    303\u001b[0m \u001b[43m              \u001b[49m\u001b[38;5;241;43m*\u001b[39;49m\u001b[43margs\u001b[49m\u001b[43m,\u001b[49m\u001b[43m \u001b[49m\u001b[38;5;241;43m*\u001b[39;49m\u001b[38;5;241;43m*\u001b[39;49m\u001b[43mkwargs\u001b[49m\u001b[43m)\u001b[49m\n",
      "File \u001b[0;32m~/miniconda3/envs/diffhydro-env/lib/python3.10/site-packages/jax/_src/util.py:296\u001b[0m, in \u001b[0;36mcache.<locals>.wrap.<locals>.cached\u001b[0;34m(_, *args, **kwargs)\u001b[0m\n\u001b[1;32m    294\u001b[0m \u001b[38;5;129m@functools\u001b[39m\u001b[38;5;241m.\u001b[39mlru_cache(max_size)\n\u001b[1;32m    295\u001b[0m \u001b[38;5;28;01mdef\u001b[39;00m\u001b[38;5;250m \u001b[39m\u001b[38;5;21mcached\u001b[39m(_, \u001b[38;5;241m*\u001b[39margs, \u001b[38;5;241m*\u001b[39m\u001b[38;5;241m*\u001b[39mkwargs):\n\u001b[0;32m--> 296\u001b[0m   \u001b[38;5;28;01mreturn\u001b[39;00m \u001b[43mf\u001b[49m\u001b[43m(\u001b[49m\u001b[38;5;241;43m*\u001b[39;49m\u001b[43margs\u001b[49m\u001b[43m,\u001b[49m\u001b[43m \u001b[49m\u001b[38;5;241;43m*\u001b[39;49m\u001b[38;5;241;43m*\u001b[39;49m\u001b[43mkwargs\u001b[49m\u001b[43m)\u001b[49m\n",
      "File \u001b[0;32m~/miniconda3/envs/diffhydro-env/lib/python3.10/site-packages/jax/_src/custom_derivatives.py:1124\u001b[0m, in \u001b[0;36m_closure_convert_for_avals\u001b[0;34m(fun, in_tree, in_avals)\u001b[0m\n\u001b[1;32m   1121\u001b[0m \u001b[38;5;129m@cache\u001b[39m()\n\u001b[1;32m   1122\u001b[0m \u001b[38;5;28;01mdef\u001b[39;00m\u001b[38;5;250m \u001b[39m\u001b[38;5;21m_closure_convert_for_avals\u001b[39m(fun, in_tree, in_avals):\n\u001b[1;32m   1123\u001b[0m   wrapped_fun, out_tree \u001b[38;5;241m=\u001b[39m flatten_fun_nokwargs(lu\u001b[38;5;241m.\u001b[39mwrap_init(fun), in_tree)\n\u001b[0;32m-> 1124\u001b[0m   jaxpr, out_pvals, consts, () \u001b[38;5;241m=\u001b[39m \u001b[43mpe\u001b[49m\u001b[38;5;241;43m.\u001b[39;49m\u001b[43mtrace_to_jaxpr_dynamic\u001b[49m\u001b[43m(\u001b[49m\u001b[43mwrapped_fun\u001b[49m\u001b[43m,\u001b[49m\u001b[43m \u001b[49m\u001b[43min_avals\u001b[49m\u001b[43m)\u001b[49m\n\u001b[1;32m   1125\u001b[0m   out_tree \u001b[38;5;241m=\u001b[39m out_tree()\n\u001b[1;32m   1127\u001b[0m   (closure_consts, hoisted_consts), merge \u001b[38;5;241m=\u001b[39m partition_list(_maybe_perturbed, consts)\n",
      "File \u001b[0;32m~/miniconda3/envs/diffhydro-env/lib/python3.10/site-packages/jax/_src/profiler.py:333\u001b[0m, in \u001b[0;36mannotate_function.<locals>.wrapper\u001b[0;34m(*args, **kwargs)\u001b[0m\n\u001b[1;32m    330\u001b[0m \u001b[38;5;129m@wraps\u001b[39m(func)\n\u001b[1;32m    331\u001b[0m \u001b[38;5;28;01mdef\u001b[39;00m\u001b[38;5;250m \u001b[39m\u001b[38;5;21mwrapper\u001b[39m(\u001b[38;5;241m*\u001b[39margs, \u001b[38;5;241m*\u001b[39m\u001b[38;5;241m*\u001b[39mkwargs):\n\u001b[1;32m    332\u001b[0m   \u001b[38;5;28;01mwith\u001b[39;00m TraceAnnotation(name, \u001b[38;5;241m*\u001b[39m\u001b[38;5;241m*\u001b[39mdecorator_kwargs):\n\u001b[0;32m--> 333\u001b[0m     \u001b[38;5;28;01mreturn\u001b[39;00m \u001b[43mfunc\u001b[49m\u001b[43m(\u001b[49m\u001b[38;5;241;43m*\u001b[39;49m\u001b[43margs\u001b[49m\u001b[43m,\u001b[49m\u001b[43m \u001b[49m\u001b[38;5;241;43m*\u001b[39;49m\u001b[38;5;241;43m*\u001b[39;49m\u001b[43mkwargs\u001b[49m\u001b[43m)\u001b[49m\n\u001b[1;32m    334\u001b[0m   \u001b[38;5;28;01mreturn\u001b[39;00m wrapper\n",
      "File \u001b[0;32m~/miniconda3/envs/diffhydro-env/lib/python3.10/site-packages/jax/_src/interpreters/partial_eval.py:2159\u001b[0m, in \u001b[0;36mtrace_to_jaxpr_dynamic\u001b[0;34m(fun, in_avals, debug_info, keep_inputs)\u001b[0m\n\u001b[1;32m   2157\u001b[0m in_tracers \u001b[38;5;241m=\u001b[39m [t \u001b[38;5;28;01mfor\u001b[39;00m t, keep \u001b[38;5;129;01min\u001b[39;00m \u001b[38;5;28mzip\u001b[39m(in_tracers, keep_inputs) \u001b[38;5;28;01mif\u001b[39;00m keep]\n\u001b[1;32m   2158\u001b[0m \u001b[38;5;28;01mwith\u001b[39;00m core\u001b[38;5;241m.\u001b[39mset_current_trace(trace):\n\u001b[0;32m-> 2159\u001b[0m   ans \u001b[38;5;241m=\u001b[39m \u001b[43mfun\u001b[49m\u001b[38;5;241;43m.\u001b[39;49m\u001b[43mcall_wrapped\u001b[49m\u001b[43m(\u001b[49m\u001b[38;5;241;43m*\u001b[39;49m\u001b[43min_tracers\u001b[49m\u001b[43m)\u001b[49m\n\u001b[1;32m   2161\u001b[0m out_tracers \u001b[38;5;241m=\u001b[39m \u001b[38;5;28mmap\u001b[39m(trace\u001b[38;5;241m.\u001b[39mto_jaxpr_tracer, ans)\n\u001b[1;32m   2162\u001b[0m _check_no_returned_refs(debug_info, out_tracers)\n",
      "File \u001b[0;32m~/miniconda3/envs/diffhydro-env/lib/python3.10/site-packages/jax/_src/linear_util.py:192\u001b[0m, in \u001b[0;36mWrappedFun.call_wrapped\u001b[0;34m(self, *args, **kwargs)\u001b[0m\n\u001b[1;32m    190\u001b[0m \u001b[38;5;28;01mdef\u001b[39;00m\u001b[38;5;250m \u001b[39m\u001b[38;5;21mcall_wrapped\u001b[39m(\u001b[38;5;28mself\u001b[39m, \u001b[38;5;241m*\u001b[39margs, \u001b[38;5;241m*\u001b[39m\u001b[38;5;241m*\u001b[39mkwargs):\n\u001b[1;32m    191\u001b[0m \u001b[38;5;250m  \u001b[39m\u001b[38;5;124;03m\"\"\"Calls the transformed function\"\"\"\u001b[39;00m\n\u001b[0;32m--> 192\u001b[0m   \u001b[38;5;28;01mreturn\u001b[39;00m \u001b[38;5;28;43mself\u001b[39;49m\u001b[38;5;241;43m.\u001b[39;49m\u001b[43mf_transformed\u001b[49m\u001b[43m(\u001b[49m\u001b[38;5;241;43m*\u001b[39;49m\u001b[43margs\u001b[49m\u001b[43m,\u001b[49m\u001b[43m \u001b[49m\u001b[38;5;241;43m*\u001b[39;49m\u001b[38;5;241;43m*\u001b[39;49m\u001b[43mkwargs\u001b[49m\u001b[43m)\u001b[49m\n",
      "File \u001b[0;32m~/miniconda3/envs/diffhydro-env/lib/python3.10/site-packages/jax/_src/api_util.py:88\u001b[0m, in \u001b[0;36mflatten_fun_nokwargs\u001b[0;34m(f, store, in_tree, *args_flat)\u001b[0m\n\u001b[1;32m     85\u001b[0m \u001b[38;5;129m@lu\u001b[39m\u001b[38;5;241m.\u001b[39mtransformation_with_aux2\n\u001b[1;32m     86\u001b[0m \u001b[38;5;28;01mdef\u001b[39;00m\u001b[38;5;250m \u001b[39m\u001b[38;5;21mflatten_fun_nokwargs\u001b[39m(f, store, in_tree, \u001b[38;5;241m*\u001b[39margs_flat):\n\u001b[1;32m     87\u001b[0m   py_args \u001b[38;5;241m=\u001b[39m tree_unflatten(in_tree, args_flat)\n\u001b[0;32m---> 88\u001b[0m   ans \u001b[38;5;241m=\u001b[39m \u001b[43mf\u001b[49m\u001b[43m(\u001b[49m\u001b[38;5;241;43m*\u001b[39;49m\u001b[43mpy_args\u001b[49m\u001b[43m)\u001b[49m\n\u001b[1;32m     89\u001b[0m   ans, out_tree \u001b[38;5;241m=\u001b[39m tree_flatten(ans)\n\u001b[1;32m     90\u001b[0m   store\u001b[38;5;241m.\u001b[39mstore(out_tree)\n",
      "Cell \u001b[0;32mIn[8], line 32\u001b[0m, in \u001b[0;36mmake_nn_stellar_ode_fn.<locals>.neural_stellarbody_ode\u001b[0;34m(state, a, cosmo)\u001b[0m\n\u001b[1;32m     29\u001b[0m forces \u001b[38;5;241m=\u001b[39m forces \u001b[38;5;241m*\u001b[39m \u001b[38;5;241m1.5\u001b[39m \u001b[38;5;241m*\u001b[39m cosmo\u001b[38;5;241m.\u001b[39mOmega_m\n\u001b[1;32m     31\u001b[0m delta_cnn_input \u001b[38;5;241m=\u001b[39m delta[\u001b[38;5;28;01mNone\u001b[39;00m, \u001b[38;5;241m.\u001b[39m\u001b[38;5;241m.\u001b[39m\u001b[38;5;241m.\u001b[39m, \u001b[38;5;28;01mNone\u001b[39;00m]  \u001b[38;5;66;03m# shape: (1, 64, 64, 64, 1) \u001b[39;00m\n\u001b[0;32m---> 32\u001b[0m sff \u001b[38;5;241m=\u001b[39m \u001b[43mmodel\u001b[49m\u001b[38;5;241m.\u001b[39mapply(params, delta_cnn_input)[\u001b[38;5;241m0\u001b[39m, \u001b[38;5;241m.\u001b[39m\u001b[38;5;241m.\u001b[39m\u001b[38;5;241m.\u001b[39m, \u001b[38;5;241m0\u001b[39m]\n\u001b[1;32m     34\u001b[0m \u001b[38;5;66;03m#sff = 0.0001*delta**2.0 # star formation field? placeholder as I don't think this is right\u001b[39;00m\n\u001b[1;32m     35\u001b[0m \u001b[38;5;66;03m# position update\u001b[39;00m\n\u001b[1;32m     36\u001b[0m dpos \u001b[38;5;241m=\u001b[39m \u001b[38;5;241m1.\u001b[39m \u001b[38;5;241m/\u001b[39m (a\u001b[38;5;241m*\u001b[39m\u001b[38;5;241m*\u001b[39m\u001b[38;5;241m3\u001b[39m \u001b[38;5;241m*\u001b[39m jnp\u001b[38;5;241m.\u001b[39msqrt(jc\u001b[38;5;241m.\u001b[39mbackground\u001b[38;5;241m.\u001b[39mEsqr(cosmo, a))) \u001b[38;5;241m*\u001b[39m vel\n",
      "\u001b[0;31mNameError\u001b[0m: name 'model' is not defined"
     ]
    }
   ],
   "source": [
    "mesh_shape = [64, 64, 64]\n",
    "\n",
    "res = odeint(make_nn_stellar_ode_fn(mesh_shape), [particles + dx, p,jnp.zeros((64,64,64))], snapshots, cosmo, rtol=1e-8, atol=1e-8)"
   ]
  },
  {
   "cell_type": "code",
   "execution_count": 10,
   "metadata": {},
   "outputs": [],
   "source": [
    "############## TRAINING CODE\n",
    "\n",
    "def loss_fn(params, nn_model, initial_state, snapshots, target, cosmo):\n",
    "    ode_fn = make_ode_fn(nn_model, params, mesh_shape)\n",
    "    result = odeint(ode_fn, initial_state, snapshots, cosmo, rtol=1e-5, atol=1e-5)\n",
    "    pred_density = result[-1][-1]  # final stellar density\n",
    "    return jnp.mean((pred_density - target)**2)  # MSE loss\n",
    "\n",
    "@jax.jit\n",
    "def train_step(params, nn_model, initial_state, snapshots, target, cosmo):\n",
    "    grads = jax.grad(loss_fn)(params, nn_model, initial_state, snapshots, target, cosmo)\n",
    "    return jax.tree_util.tree_map(lambda p, g: p - 1e-3 * g, params, grads)  # manual SGD\n"
   ]
  },
  {
   "cell_type": "code",
   "execution_count": 11,
   "metadata": {},
   "outputs": [],
   "source": [
    "camels_baseline = np.load(\"/gpfs02/work/diffusion/gridsMstar/Grids_Mstar_IllustrisTNG_CV_128_z=0.0.npy\")"
   ]
  },
  {
   "cell_type": "code",
   "execution_count": 13,
   "metadata": {},
   "outputs": [
    {
     "ename": "RuntimeError",
     "evalue": "CUDNN_BACKEND_TENSOR_DESCRIPTOR cudnnFinalize failedptrDesc->finalize() cudnn_status: CUDNN_STATUS_SUBLIBRARY_LOADING_FAILED",
     "output_type": "error",
     "traceback": [
      "\u001b[0;31m---------------------------------------------------------------------------\u001b[0m",
      "\u001b[0;31mRuntimeError\u001b[0m                              Traceback (most recent call last)",
      "Cell \u001b[0;32mIn[13], line 6\u001b[0m\n\u001b[1;32m      3\u001b[0m model \u001b[38;5;241m=\u001b[39m StarCNN(num_channels\u001b[38;5;241m=\u001b[39m\u001b[38;5;241m1\u001b[39m, num_layers\u001b[38;5;241m=\u001b[39m\u001b[38;5;241m2\u001b[39m, kernel_size\u001b[38;5;241m=\u001b[39m\u001b[38;5;241m3\u001b[39m)\n\u001b[1;32m      5\u001b[0m dummy_input \u001b[38;5;241m=\u001b[39m jnp\u001b[38;5;241m.\u001b[39mones((\u001b[38;5;241m1\u001b[39m, \u001b[38;5;241m64\u001b[39m, \u001b[38;5;241m64\u001b[39m, \u001b[38;5;241m64\u001b[39m, \u001b[38;5;241m1\u001b[39m))  \u001b[38;5;66;03m# batch=1, channels=1\u001b[39;00m\n\u001b[0;32m----> 6\u001b[0m params \u001b[38;5;241m=\u001b[39m \u001b[43mmodel\u001b[49m\u001b[38;5;241;43m.\u001b[39;49m\u001b[43minit\u001b[49m\u001b[43m(\u001b[49m\u001b[43mrng\u001b[49m\u001b[43m,\u001b[49m\u001b[43m \u001b[49m\u001b[43mdummy_input\u001b[49m\u001b[43m)\u001b[49m\n\u001b[1;32m      7\u001b[0m \u001b[38;5;66;03m#params = model.init(rng, (particles + dx, p, jnp.zeros(mesh_shape)), 0.1, cosmo)\u001b[39;00m\n\u001b[1;32m      9\u001b[0m initial_state \u001b[38;5;241m=\u001b[39m (particles \u001b[38;5;241m+\u001b[39m dx, p, jnp\u001b[38;5;241m.\u001b[39mzeros(mesh_shape))\n",
      "    \u001b[0;31m[... skipping hidden 9 frame]\u001b[0m\n",
      "File \u001b[0;32m~/projects/introLearn/stellar_nn.py:27\u001b[0m, in \u001b[0;36mStarCNN.__call__\u001b[0;34m(self, x)\u001b[0m\n\u001b[1;32m     25\u001b[0m \u001b[38;5;28;01mfor\u001b[39;00m _ \u001b[38;5;129;01min\u001b[39;00m \u001b[38;5;28mrange\u001b[39m(\u001b[38;5;28mself\u001b[39m\u001b[38;5;241m.\u001b[39mnum_layers):\n\u001b[1;32m     26\u001b[0m     x \u001b[38;5;241m=\u001b[39m \u001b[38;5;28mself\u001b[39m\u001b[38;5;241m.\u001b[39mperiodic_pad(x, pad)\n\u001b[0;32m---> 27\u001b[0m     x \u001b[38;5;241m=\u001b[39m \u001b[43mnn\u001b[49m\u001b[38;5;241;43m.\u001b[39;49m\u001b[43mConv\u001b[49m\u001b[43m(\u001b[49m\n\u001b[1;32m     28\u001b[0m \u001b[43m        \u001b[49m\u001b[43mfeatures\u001b[49m\u001b[38;5;241;43m=\u001b[39;49m\u001b[38;5;28;43mself\u001b[39;49m\u001b[38;5;241;43m.\u001b[39;49m\u001b[43mnum_channels\u001b[49m\u001b[43m,\u001b[49m\n\u001b[1;32m     29\u001b[0m \u001b[43m        \u001b[49m\u001b[43mkernel_size\u001b[49m\u001b[38;5;241;43m=\u001b[39;49m\u001b[43m(\u001b[49m\u001b[38;5;28;43mself\u001b[39;49m\u001b[38;5;241;43m.\u001b[39;49m\u001b[43mkernel_size\u001b[49m\u001b[43m,\u001b[49m\u001b[43m \u001b[49m\u001b[38;5;28;43mself\u001b[39;49m\u001b[38;5;241;43m.\u001b[39;49m\u001b[43mkernel_size\u001b[49m\u001b[43m,\u001b[49m\u001b[43m \u001b[49m\u001b[38;5;28;43mself\u001b[39;49m\u001b[38;5;241;43m.\u001b[39;49m\u001b[43mkernel_size\u001b[49m\u001b[43m)\u001b[49m\u001b[43m,\u001b[49m\n\u001b[1;32m     30\u001b[0m \u001b[43m        \u001b[49m\u001b[43mstrides\u001b[49m\u001b[38;5;241;43m=\u001b[39;49m\u001b[43m(\u001b[49m\u001b[38;5;241;43m1\u001b[39;49m\u001b[43m,\u001b[49m\u001b[43m \u001b[49m\u001b[38;5;241;43m1\u001b[39;49m\u001b[43m,\u001b[49m\u001b[43m \u001b[49m\u001b[38;5;241;43m1\u001b[39;49m\u001b[43m)\u001b[49m\u001b[43m,\u001b[49m\n\u001b[1;32m     31\u001b[0m \u001b[43m        \u001b[49m\u001b[43mpadding\u001b[49m\u001b[38;5;241;43m=\u001b[39;49m\u001b[38;5;124;43m'\u001b[39;49m\u001b[38;5;124;43mVALID\u001b[39;49m\u001b[38;5;124;43m'\u001b[39;49m\u001b[43m \u001b[49m\n\u001b[1;32m     32\u001b[0m \u001b[43m    \u001b[49m\u001b[43m)\u001b[49m\u001b[43m(\u001b[49m\u001b[43mx\u001b[49m\u001b[43m)\u001b[49m\n\u001b[1;32m     33\u001b[0m     x \u001b[38;5;241m=\u001b[39m nn\u001b[38;5;241m.\u001b[39mselu(x)\n\u001b[1;32m     34\u001b[0m \u001b[38;5;28;01mreturn\u001b[39;00m x\n",
      "    \u001b[0;31m[... skipping hidden 2 frame]\u001b[0m\n",
      "File \u001b[0;32m~/miniconda3/envs/diffhydro-env/lib/python3.10/site-packages/flax/linen/linear.py:658\u001b[0m, in \u001b[0;36m_Conv.__call__\u001b[0;34m(self, inputs)\u001b[0m\n\u001b[1;32m    656\u001b[0m   \u001b[38;5;28;01melse\u001b[39;00m:\n\u001b[1;32m    657\u001b[0m     conv_general_dilated \u001b[38;5;241m=\u001b[39m lax\u001b[38;5;241m.\u001b[39mconv_general_dilated\n\u001b[0;32m--> 658\u001b[0m   y \u001b[38;5;241m=\u001b[39m \u001b[43mconv_general_dilated\u001b[49m\u001b[43m(\u001b[49m\n\u001b[1;32m    659\u001b[0m \u001b[43m    \u001b[49m\u001b[43minputs\u001b[49m\u001b[43m,\u001b[49m\n\u001b[1;32m    660\u001b[0m \u001b[43m    \u001b[49m\u001b[43mkernel\u001b[49m\u001b[43m,\u001b[49m\n\u001b[1;32m    661\u001b[0m \u001b[43m    \u001b[49m\u001b[43mstrides\u001b[49m\u001b[43m,\u001b[49m\n\u001b[1;32m    662\u001b[0m \u001b[43m    \u001b[49m\u001b[43mpadding_lax\u001b[49m\u001b[43m,\u001b[49m\n\u001b[1;32m    663\u001b[0m \u001b[43m    \u001b[49m\u001b[43mlhs_dilation\u001b[49m\u001b[38;5;241;43m=\u001b[39;49m\u001b[43minput_dilation\u001b[49m\u001b[43m,\u001b[49m\n\u001b[1;32m    664\u001b[0m \u001b[43m    \u001b[49m\u001b[43mrhs_dilation\u001b[49m\u001b[38;5;241;43m=\u001b[39;49m\u001b[43mkernel_dilation\u001b[49m\u001b[43m,\u001b[49m\n\u001b[1;32m    665\u001b[0m \u001b[43m    \u001b[49m\u001b[43mdimension_numbers\u001b[49m\u001b[38;5;241;43m=\u001b[39;49m\u001b[43mdimension_numbers\u001b[49m\u001b[43m,\u001b[49m\n\u001b[1;32m    666\u001b[0m \u001b[43m    \u001b[49m\u001b[43mfeature_group_count\u001b[49m\u001b[38;5;241;43m=\u001b[39;49m\u001b[38;5;28;43mself\u001b[39;49m\u001b[38;5;241;43m.\u001b[39;49m\u001b[43mfeature_group_count\u001b[49m\u001b[43m,\u001b[49m\n\u001b[1;32m    667\u001b[0m \u001b[43m    \u001b[49m\u001b[43mprecision\u001b[49m\u001b[38;5;241;43m=\u001b[39;49m\u001b[38;5;28;43mself\u001b[39;49m\u001b[38;5;241;43m.\u001b[39;49m\u001b[43mprecision\u001b[49m\u001b[43m,\u001b[49m\n\u001b[1;32m    668\u001b[0m \u001b[43m  \u001b[49m\u001b[43m)\u001b[49m\n\u001b[1;32m    669\u001b[0m \u001b[38;5;28;01melse\u001b[39;00m:\n\u001b[1;32m    670\u001b[0m   y \u001b[38;5;241m=\u001b[39m lax\u001b[38;5;241m.\u001b[39mconv_general_dilated_local(\n\u001b[1;32m    671\u001b[0m     lhs\u001b[38;5;241m=\u001b[39minputs,\n\u001b[1;32m    672\u001b[0m     rhs\u001b[38;5;241m=\u001b[39mkernel,\n\u001b[0;32m   (...)\u001b[0m\n\u001b[1;32m    679\u001b[0m     precision\u001b[38;5;241m=\u001b[39m\u001b[38;5;28mself\u001b[39m\u001b[38;5;241m.\u001b[39mprecision,\n\u001b[1;32m    680\u001b[0m   )\n",
      "    \u001b[0;31m[... skipping hidden 15 frame]\u001b[0m\n",
      "File \u001b[0;32m~/miniconda3/envs/diffhydro-env/lib/python3.10/site-packages/jax/_src/compiler.py:315\u001b[0m, in \u001b[0;36mbackend_compile\u001b[0;34m(backend, module, options, host_callbacks)\u001b[0m\n\u001b[1;32m    309\u001b[0m     \u001b[38;5;28;01mreturn\u001b[39;00m backend\u001b[38;5;241m.\u001b[39mcompile(\n\u001b[1;32m    310\u001b[0m         built_c, compile_options\u001b[38;5;241m=\u001b[39moptions, host_callbacks\u001b[38;5;241m=\u001b[39mhost_callbacks\n\u001b[1;32m    311\u001b[0m     )\n\u001b[1;32m    312\u001b[0m   \u001b[38;5;66;03m# Some backends don't have `host_callbacks` option yet\u001b[39;00m\n\u001b[1;32m    313\u001b[0m   \u001b[38;5;66;03m# TODO(sharadmv): remove this fallback when all backends allow `compile`\u001b[39;00m\n\u001b[1;32m    314\u001b[0m   \u001b[38;5;66;03m# to take in `host_callbacks`\u001b[39;00m\n\u001b[0;32m--> 315\u001b[0m   \u001b[38;5;28;01mreturn\u001b[39;00m \u001b[43mbackend\u001b[49m\u001b[38;5;241;43m.\u001b[39;49m\u001b[43mcompile\u001b[49m\u001b[43m(\u001b[49m\u001b[43mbuilt_c\u001b[49m\u001b[43m,\u001b[49m\u001b[43m \u001b[49m\u001b[43mcompile_options\u001b[49m\u001b[38;5;241;43m=\u001b[39;49m\u001b[43moptions\u001b[49m\u001b[43m)\u001b[49m\n\u001b[1;32m    316\u001b[0m \u001b[38;5;28;01mexcept\u001b[39;00m xc\u001b[38;5;241m.\u001b[39mXlaRuntimeError \u001b[38;5;28;01mas\u001b[39;00m e:\n\u001b[1;32m    317\u001b[0m   \u001b[38;5;28;01mfor\u001b[39;00m error_handler \u001b[38;5;129;01min\u001b[39;00m _XLA_RUNTIME_ERROR_HANDLERS:\n",
      "\u001b[0;31mRuntimeError\u001b[0m: CUDNN_BACKEND_TENSOR_DESCRIPTOR cudnnFinalize failedptrDesc->finalize() cudnn_status: CUDNN_STATUS_SUBLIBRARY_LOADING_FAILED"
     ]
    }
   ],
   "source": [
    "rng = jax.random.PRNGKey(0)\n",
    "mesh_shape = (64, 64, 64)\n",
    "model = StarCNN(num_channels=1, num_layers=2, kernel_size=3)\n",
    "\n",
    "dummy_input = jnp.ones((1, 64, 64, 64, 1))  # batch=1, channels=1\n",
    "params = model.init(rng, dummy_input)\n",
    "#params = model.init(rng, (particles + dx, p, jnp.zeros(mesh_shape)), 0.1, cosmo)\n",
    "\n",
    "initial_state = (particles + dx, p, jnp.zeros(mesh_shape))\n",
    "target = camels_baseline \n",
    "snapshots = jnp.array([0.1, 0.5, 1.0])\n",
    "\n",
    "for epoch in range(100):\n",
    "    params = train_step(params, model, initial_state, snapshots, target, cosmo)\n",
    "    if epoch % 10 == 0:\n",
    "        loss_val = loss_fn(params, model, initial_state, snapshots, target, cosmo)\n",
    "        print(f\"Epoch {epoch}: Loss = {loss_val:.6f}\")\n"
   ]
  },
  {
   "cell_type": "code",
   "execution_count": null,
   "metadata": {},
   "outputs": [],
   "source": []
  }
 ],
 "metadata": {
  "kernelspec": {
   "display_name": "diffhydro-env",
   "language": "python",
   "name": "python3"
  },
  "language_info": {
   "codemirror_mode": {
    "name": "ipython",
    "version": 3
   },
   "file_extension": ".py",
   "mimetype": "text/x-python",
   "name": "python",
   "nbconvert_exporter": "python",
   "pygments_lexer": "ipython3",
   "version": "3.10.16"
  }
 },
 "nbformat": 4,
 "nbformat_minor": 2
}
