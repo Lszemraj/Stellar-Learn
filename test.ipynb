{
 "cells": [
  {
   "cell_type": "code",
   "execution_count": 4,
   "metadata": {},
   "outputs": [],
   "source": [
    "import numpy as np\n",
    "import os\n",
    "os.environ[\"CUDA_VISIBLE_DEVICES\"] = \"2\"\n",
    "os.environ[\n",
    "    'XLA_FLAGS'] = '--xla_gpu_cuda_data_dir=/usr/local/cuda'\n",
    "\n",
    "from absl import app\n",
    "from absl import flags\n",
    "import matplotlib.pyplot as plt\n",
    "import pickle\n",
    "import jax\n",
    "import jax.numpy as jnp\n",
    "import jax_cosmo as jc\n",
    "from tqdm import tqdm\n",
    "from jax.experimental.ode import odeint\n",
    "from base import PRNGSequence\n",
    "from jaxpm.painting import cic_paint, cic_read\n",
    "from pm import make_neural_ode_fn\n",
    "from kernels import fftk, gradient_kernel, invlaplace_kernel as laplace_kernel, longrange_kernel\n",
    "from nn import NeuralSplineFourierFilter  # the Flax version\n",
    "from jaxpm.utils import power_spectrum\n",
    "import glob\n",
    "from stellar_nn import StarCNN\n",
    "#import partial\n",
    "\n",
    "import readgadget\n",
    "import optax\n",
    "from functools import partial\n",
    "\n",
    "from flax import linen as nn\n",
    "from flax.training import train_state\n",
    "\n",
    "import jax.numpy as jnp\n",
    "import jax_cosmo as jc\n",
    "\n",
    "from distributed import fft3d, ifft3d, normal_field\n",
    "from jaxpm.growth import (dGf2a, dGfa, growth_factor, growth_factor_second,\n",
    "                          growth_rate, growth_rate_second)\n",
    "from jaxpm.kernels import (PGD_kernel, fftk, gradient_kernel,\n",
    "                           invlaplace_kernel, longrange_kernel)\n",
    "from jaxpm.painting import cic_paint, cic_read\n",
    "from stellar_nn import StarCNN\n",
    "\n",
    "from flax.training import train_state\n",
    "\n",
    "from jaxpm.pm import linear_field, lpt, make_ode_fn"
   ]
  },
  {
   "cell_type": "code",
   "execution_count": 13,
   "metadata": {},
   "outputs": [
    {
     "data": {
      "text/plain": [
       "'\\ndef make_nn_stellar_ode_fn(model, mesh_shape):\\n\\n    def neural_stellarbody_ode(state, a, cosmo, params):\\n        \"\"\"\\n        state is (position, velocities, density)\\n        \"\"\"\\n\\n        pos, vel, den = state\\n        delta = cic_paint(jnp.zeros(mesh_shape), pos)\\n        print(delta.shape, pos.shape, vel.shape)\\n        delta_k = jnp.fft.rfftn(delta)\\n        #print(delta_k.shape)\\n        kvec = fftk(delta.shape)\\n\\n        # gravitational potential calc\\n        pot_k = delta_k * invlaplace_kernel(kvec) * longrange_kernel(kvec,\\n                                                                     r_split=0)\\n\\n        # gravitational force calc\\n        forces = jnp.stack([\\n            cic_read(jnp.fft.irfftn(-gradient_kernel(kvec, i) * pot_k), pos)\\n            for i in range(3)\\n        ],\\n                           axis=-1)\\n\\n        forces = forces * 1.5 * cosmo.Omega_m\\n\\n        #delta_den = cic_paint(jnp.zeros(mesh_shape), den) # evolved stellar field\\n        delta_den = cic_paint(jnp.zeros(mesh_shape), pos, weight=den) \\n        sff =  delta_den**2\\n        #sff = StarCNN(delta, delta_den) # star formation field? placeholder as I don\\'t think this is right\\n        div = sff / delta \\n\\n        ddden = cic_read(div, delta) # delta density\\n        print(\"dden\", ddden)\\n        # position update\\n        dpos = 1. / (a**3 * jnp.sqrt(jc.background.Esqr(cosmo, a))) * vel\\n\\n        # velovity update \\n        dvel = 1. / (a**2 * jnp.sqrt(jc.background.Esqr(cosmo, a))) * forces\\n\\n        return dpos, dvel, ddden\\n\\n    return neural_stellarbody_ode\\n'"
      ]
     },
     "execution_count": 13,
     "metadata": {},
     "output_type": "execute_result"
    }
   ],
   "source": [
    "'''\n",
    "def make_nn_stellar_ode_fn(model, mesh_shape):\n",
    "\n",
    "    def neural_stellarbody_ode(state, a, cosmo, params):\n",
    "        \"\"\"\n",
    "        state is (position, velocities, density)\n",
    "        \"\"\"\n",
    "\n",
    "        pos, vel, den = state\n",
    "        delta = cic_paint(jnp.zeros(mesh_shape), pos)\n",
    "        print(delta.shape, pos.shape, vel.shape)\n",
    "        delta_k = jnp.fft.rfftn(delta)\n",
    "        #print(delta_k.shape)\n",
    "        kvec = fftk(delta.shape)\n",
    "\n",
    "        # gravitational potential calc\n",
    "        pot_k = delta_k * invlaplace_kernel(kvec) * longrange_kernel(kvec,\n",
    "                                                                     r_split=0)\n",
    "\n",
    "        # gravitational force calc\n",
    "        forces = jnp.stack([\n",
    "            cic_read(jnp.fft.irfftn(-gradient_kernel(kvec, i) * pot_k), pos)\n",
    "            for i in range(3)\n",
    "        ],\n",
    "                           axis=-1)\n",
    "\n",
    "        forces = forces * 1.5 * cosmo.Omega_m\n",
    "\n",
    "        #delta_den = cic_paint(jnp.zeros(mesh_shape), den) # evolved stellar field\n",
    "        delta_den = cic_paint(jnp.zeros(mesh_shape), pos, weight=den) \n",
    "        sff =  delta_den**2\n",
    "        #sff = StarCNN(delta, delta_den) # star formation field? placeholder as I don't think this is right\n",
    "        div = sff / delta \n",
    "\n",
    "        ddden = cic_read(div, delta) # delta density\n",
    "        print(\"dden\", ddden)\n",
    "        # position update\n",
    "        dpos = 1. / (a**3 * jnp.sqrt(jc.background.Esqr(cosmo, a))) * vel\n",
    "\n",
    "        # velovity update \n",
    "        dvel = 1. / (a**2 * jnp.sqrt(jc.background.Esqr(cosmo, a))) * forces\n",
    "\n",
    "        return dpos, dvel, ddden\n",
    "\n",
    "    return neural_stellarbody_ode\n",
    "'''"
   ]
  },
  {
   "cell_type": "code",
   "execution_count": 14,
   "metadata": {},
   "outputs": [
    {
     "data": {
      "text/plain": [
       "'\\ndef neural_stellarbody_ode(state, a, cosmo, params):\\n        \"\"\"\\n        state is (position, velocities, density)\\n        \"\"\"\\n\\n        pos, vel, den = state\\n        delta = cic_paint(jnp.zeros(mesh_shape), pos)\\n        print(delta.shape, pos.shape, vel.shape)\\n        delta_k = jnp.fft.rfftn(delta)\\n        #print(delta_k.shape)\\n        kvec = fftk(delta.shape)\\n\\n        # gravitational potential calc\\n        pot_k = delta_k * invlaplace_kernel(kvec) * longrange_kernel(kvec,\\n                                                                     r_split=0)\\n\\n        # gravitational force calc\\n        forces = jnp.stack([\\n            cic_read(jnp.fft.irfftn(-gradient_kernel(kvec, i) * pot_k), pos)\\n            for i in range(3)\\n        ],\\n                           axis=-1)\\n\\n        forces = forces * 1.5 * cosmo.Omega_m\\n\\n        #delta_den = cic_paint(jnp.zeros(mesh_shape), den) # evolved stellar field\\n        delta_den = cic_paint(jnp.zeros(mesh_shape), pos, weight=den) \\n        sff =  delta_den**2\\n        #sff = StarCNN(delta, delta_den) # star formation field? placeholder as I don\\'t think this is right\\n        div = sff / delta \\n\\n        ddden = cic_read(div, delta) # delta density\\n        print(\"dden\", ddden)\\n        # position update\\n        dpos = 1. / (a**3 * jnp.sqrt(jc.background.Esqr(cosmo, a))) * vel\\n\\n        # velovity update \\n        dvel = 1. / (a**2 * jnp.sqrt(jc.background.Esqr(cosmo, a))) * forces\\n\\n        return dpos, dvel, ddden\\n\\n'"
      ]
     },
     "execution_count": 14,
     "metadata": {},
     "output_type": "execute_result"
    }
   ],
   "source": [
    "'''\n",
    "def neural_stellarbody_ode(state, a, cosmo, params):\n",
    "        \"\"\"\n",
    "        state is (position, velocities, density)\n",
    "        \"\"\"\n",
    "\n",
    "        pos, vel, den = state\n",
    "        delta = cic_paint(jnp.zeros(mesh_shape), pos)\n",
    "        print(delta.shape, pos.shape, vel.shape)\n",
    "        delta_k = jnp.fft.rfftn(delta)\n",
    "        #print(delta_k.shape)\n",
    "        kvec = fftk(delta.shape)\n",
    "\n",
    "        # gravitational potential calc\n",
    "        pot_k = delta_k * invlaplace_kernel(kvec) * longrange_kernel(kvec,\n",
    "                                                                     r_split=0)\n",
    "\n",
    "        # gravitational force calc\n",
    "        forces = jnp.stack([\n",
    "            cic_read(jnp.fft.irfftn(-gradient_kernel(kvec, i) * pot_k), pos)\n",
    "            for i in range(3)\n",
    "        ],\n",
    "                           axis=-1)\n",
    "\n",
    "        forces = forces * 1.5 * cosmo.Omega_m\n",
    "\n",
    "        #delta_den = cic_paint(jnp.zeros(mesh_shape), den) # evolved stellar field\n",
    "        delta_den = cic_paint(jnp.zeros(mesh_shape), pos, weight=den) \n",
    "        sff =  delta_den**2\n",
    "        #sff = StarCNN(delta, delta_den) # star formation field? placeholder as I don't think this is right\n",
    "        div = sff / delta \n",
    "\n",
    "        ddden = cic_read(div, delta) # delta density\n",
    "        print(\"dden\", ddden)\n",
    "        # position update\n",
    "        dpos = 1. / (a**3 * jnp.sqrt(jc.background.Esqr(cosmo, a))) * vel\n",
    "\n",
    "        # velovity update \n",
    "        dvel = 1. / (a**2 * jnp.sqrt(jc.background.Esqr(cosmo, a))) * forces\n",
    "\n",
    "        return dpos, dvel, ddden\n",
    "\n",
    "'''"
   ]
  },
  {
   "cell_type": "code",
   "execution_count": 16,
   "metadata": {},
   "outputs": [
    {
     "name": "stderr",
     "output_type": "stream",
     "text": [
      "/home/lszemraj/miniconda3/envs/jax-gpu/lib/python3.10/site-packages/jax/_src/numpy/array_methods.py:121: UserWarning: Explicitly requested dtype <class 'jax.numpy.int64'> requested in astype is not available, and will be truncated to dtype int32. To enable more dtypes, set the jax_enable_x64 configuration option or the JAX_ENABLE_X64 shell environment variable. See https://github.com/jax-ml/jax#current-gotchas for more.\n",
      "  return lax_numpy.astype(self, dtype, copy=copy, device=device)\n"
     ]
    }
   ],
   "source": [
    "mesh_shape = [64, 64, 64]\n",
    "box_size = [64., 64., 64.]\n",
    "snapshots = jnp.array([0.1, 0.5, 1.0])\n",
    "\n",
    "# Create a small function to generate the matter power spectrum\n",
    "k = jnp.logspace(-4, 1, 128)\n",
    "pk = jc.power.linear_matter_power(jc.Planck15(Omega_c=0.2, sigma8=0.8), k)\n",
    "pk_fn = lambda x: jnp.interp(x.reshape([-1]), k, pk).reshape(x.shape)\n",
    "\n",
    "# Create initial conditions and particles\n",
    "initial_conditions = linear_field(mesh_shape, box_size, pk_fn, seed=jax.random.PRNGKey(0))\n",
    "particles = jnp.stack(jnp.meshgrid(*[jnp.arange(s) for s in mesh_shape]),axis=-1).reshape([-1,3])\n",
    "\n",
    "# Initial displacement\n",
    "cosmo = jc.Planck15(Omega_c=0.2, sigma8=0.8)\n",
    "dx, p, f = lpt(cosmo, initial_conditions, particles, a=0.1)\n",
    "\n",
    "res = odeint(make_ode_fn(mesh_shape), [particles + dx, p], snapshots, cosmo, rtol=1e-8, atol=1e-8)"
   ]
  },
  {
   "cell_type": "code",
   "execution_count": 17,
   "metadata": {},
   "outputs": [
    {
     "data": {
      "text/plain": [
       "(3, 262144, 3)"
      ]
     },
     "execution_count": 17,
     "metadata": {},
     "output_type": "execute_result"
    }
   ],
   "source": [
    "res[0].shape"
   ]
  },
  {
   "cell_type": "code",
   "execution_count": 11,
   "metadata": {},
   "outputs": [
    {
     "name": "stdout",
     "output_type": "stream",
     "text": [
      "%pylab is deprecated, use %matplotlib inline and import the required libraries.\n",
      "Populating the interactive namespace from numpy and matplotlib\n"
     ]
    },
    {
     "data": {
      "image/png": "[encoded data removed]",
      "text/plain": [
       "<Figure size 640x480 with 1 Axes>"
      ]
     },
     "metadata": {},
     "output_type": "display_data"
    }
   ],
   "source": [
    "%pylab inline\n",
    "#plt.plot(jnp.log10(cic_paint(jnp.zeros(mesh_shape) ,res[0][-1]) + 1)[0])\n",
    "field = (cic_paint(jnp.zeros(mesh_shape), res[0][-1]))\n",
    "imshow(np.log(field.sum(axis=0)))\n",
    "plt.savefig(\"images/stellarfield.png\")"
   ]
  },
  {
   "cell_type": "markdown",
   "metadata": {},
   "source": [
    "# Forward model (using CNN)"
   ]
  },
  {
   "cell_type": "code",
   "execution_count": 6,
   "metadata": {},
   "outputs": [
    {
     "data": {
      "image/png": "[encoded data removed]",
      "text/plain": [
       "<Figure size 640x480 with 2 Axes>"
      ]
     },
     "metadata": {},
     "output_type": "display_data"
    },
    {
     "name": "stdout",
     "output_type": "stream",
     "text": [
      "Output shape: (1, 64, 64, 64, 1)\n",
      "NaNs in output? False\n",
      "Infs in output? False\n",
      "Output mean: -0.35827956\n",
      "Output std: 0.0\n"
     ]
    }
   ],
   "source": [
    "import jax\n",
    "import jax.numpy as jnp\n",
    "\n",
    "\n",
    "model = StarCNN(num_channels=1, num_layers=2, kernel_size=3)\n",
    "rng = jax.random.PRNGKey(0)\n",
    "input_shape = (1, 64, 64, 64, 1)  # (batch, D, H, W, channels)\n",
    "dummy_input = jnp.ones(input_shape)\n",
    "\n",
    "params = model.init(rng, dummy_input)\n",
    "output = model.apply(params, dummy_input)\n",
    "\n",
    "plt.imshow(output[0, 32, :, :, 0], cmap='viridis')\n",
    "plt.title(\"Central XY slice of CNN output\")\n",
    "plt.colorbar()\n",
    "plt.show()\n",
    "\n",
    "print(\"Output shape:\", output.shape)\n",
    "print(\"NaNs in output?\", jnp.isnan(output).any())\n",
    "print(\"Infs in output?\", jnp.isinf(output).any())\n",
    "print(\"Output mean:\", output.mean())\n",
    "print(\"Output std:\", output.std())\n"
   ]
  },
  {
   "cell_type": "code",
   "execution_count": 7,
   "metadata": {},
   "outputs": [],
   "source": [
    "def make_nn_stellar_ode_fn(mesh_shape, model, params):\n",
    "    def neural_stellarbody_ode(state, a, cosmo):\n",
    "        pos, vel, den = state\n",
    "\n",
    "        delta = cic_paint(jnp.zeros(mesh_shape), pos)\n",
    "        delta_k = jnp.fft.rfftn(delta)\n",
    "        kvec = fftk(delta.shape)\n",
    "\n",
    "        pot_k = delta_k * invlaplace_kernel(kvec) * longrange_kernel(kvec, r_split=0)\n",
    "\n",
    "        forces = jnp.stack([\n",
    "            cic_read(jnp.fft.irfftn(-gradient_kernel(kvec, i) * pot_k), pos)\n",
    "            for i in range(3)\n",
    "        ], axis=-1)\n",
    "\n",
    "        forces = forces * 1.5 * cosmo.Omega_m\n",
    "\n",
    "        # CNN input\n",
    "        delta_cnn_input = delta[None, ..., None]  # shape: (1, 64, 64, 64, 1)\n",
    "        sff = model.apply(params, delta_cnn_input)[0, ..., 0]  # shape: (64, 64, 64)\n",
    "\n",
    "        dpos = 1. / (a**3 * jnp.sqrt(jc.background.Esqr(cosmo, a))) * vel\n",
    "        dvel = 1. / (a**2 * jnp.sqrt(jc.background.Esqr(cosmo, a))) * forces\n",
    "\n",
    "        return dpos, dvel, sff  # returns new state tuple\n",
    "\n",
    "    return neural_stellarbody_ode\n"
   ]
  },
  {
   "cell_type": "code",
   "execution_count": 5,
   "metadata": {},
   "outputs": [
    {
     "name": "stdout",
     "output_type": "stream",
     "text": [
      "output shape: (64, 64, 64)\n",
      "Mean density: -0.00372235\n"
     ]
    }
   ],
   "source": [
    "N = 128**3  # or however many particles you're simulating\n",
    "#positions = jax.random.uniform(rng, (N, 3), minval=0.0, maxval=64.0)  # if mesh is 64³\n",
    "#velocities = jnp.zeros_like(positions) \n",
    "#initial_density = jnp.zeros(mesh_shape)\n",
    "\n",
    "mesh_shape = [64, 64, 64]\n",
    "box_size = [64., 64., 64.]\n",
    "snapshots = jnp.array([0.1, 0.5, 1.0])\n",
    "\n",
    "k = jnp.logspace(-4, 1, 128)\n",
    "pk = jc.power.linear_matter_power(jc.Planck15(Omega_c=0.2, sigma8=0.8), k)\n",
    "pk_fn = lambda x: jnp.interp(x.reshape([-1]), k, pk).reshape(x.shape)\n",
    "\n",
    "initial_conditions = linear_field(mesh_shape, box_size, pk_fn, seed=jax.random.PRNGKey(0))\n",
    "particles = jnp.stack(jnp.meshgrid(*[jnp.arange(s) for s in mesh_shape]),axis=-1).reshape([-1,3])\n",
    "cosmo = jc.Planck15(Omega_c=0.2, sigma8=0.8)\n",
    "\n",
    "dx, p, f = lpt(cosmo, initial_conditions, particles, a=0.1)\n",
    "\n",
    "initial_pos = particles + dx          # shape (N, 3)\n",
    "initial_vel = p                       # shape (N, 3)\n",
    "initial_den = jnp.zeros(mesh_shape)   # shape (64, 64, 64)\n",
    "\n",
    "initial_state = (initial_pos, initial_vel, initial_den)\n",
    "\n",
    "#initial_state = (positions, velocities, initial_density)\n",
    "\n",
    "\n",
    "mesh_shape = (64, 64, 64)\n",
    "ode_fn = make_nn_stellar_ode_fn(mesh_shape, model, params)\n",
    "result = odeint(ode_fn, initial_state, snapshots, cosmo)\n",
    "\n",
    "print(\"output shape:\", result[-1][-1].shape)\n",
    "print(\"Mean density:\", result[-1][-1].mean())"
   ]
  },
  {
   "cell_type": "markdown",
   "metadata": {},
   "source": [
    "# Training code"
   ]
  },
  {
   "cell_type": "code",
   "execution_count": 27,
   "metadata": {},
   "outputs": [],
   "source": [
    "def make_nn_stellar_ode_fn(mesh_shape, model, params):\n",
    "\n",
    "    def neural_stellarbody_ode(state, a, cosmo):\n",
    "        \"\"\"\n",
    "        state is (position, velocities, density)\n",
    "        \"\"\"\n",
    "\n",
    "        pos, vel, den = state\n",
    "        delta = cic_paint(jnp.zeros(mesh_shape), pos)\n",
    "        print(delta.shape, pos.shape, vel.shape)\n",
    "        delta_k = jnp.fft.rfftn(delta)\n",
    "        #print(delta_k.shape)\n",
    "        kvec = fftk(delta.shape)\n",
    "\n",
    "        # gravitational potential calc\n",
    "        pot_k = delta_k * invlaplace_kernel(kvec) * longrange_kernel(kvec,\n",
    "                                                                     r_split=0)\n",
    "\n",
    "        #  correction filter\n",
    "        kk = jnp.sqrt(sum((ki / jnp.pi)**2 for ki in kvec))\n",
    "\n",
    "        # gravitational force calc\n",
    "        forces = jnp.stack([\n",
    "            cic_read(jnp.fft.irfftn(-gradient_kernel(kvec, i) * pot_k), pos)\n",
    "            for i in range(3)\n",
    "        ],\n",
    "                           axis=-1)\n",
    "\n",
    "        forces = forces * 1.5 * cosmo.Omega_m\n",
    "        \n",
    "        delta_cnn_input = delta[None, ..., None]  # shape: (1, 64, 64, 64, 1) \n",
    "        sff = model.apply(params, delta_cnn_input)[0, ..., 0]\n",
    "\n",
    "        #sff = 0.0001*delta**2.0 # star formation field? placeholder as I don't think this is right\n",
    "        # position update\n",
    "        dpos = 1. / (a**3 * jnp.sqrt(jc.background.Esqr(cosmo, a))) * vel\n",
    "\n",
    "        # velovity update \n",
    "        dvel = 1. / (a**2 * jnp.sqrt(jc.background.Esqr(cosmo, a))) * forces\n",
    "\n",
    "        return dpos, dvel, sff\n",
    "    \n",
    "    return neural_stellarbody_ode"
   ]
  },
  {
   "cell_type": "code",
   "execution_count": 28,
   "metadata": {},
   "outputs": [],
   "source": [
    "#mesh_shape = [64, 64, 64]\n",
    "\n",
    "#res = odeint(make_nn_stellar_ode_fn(mesh_shape), [particles + dx, p,jnp.zeros((64,64,64))], snapshots, cosmo, rtol=1e-8, atol=1e-8)"
   ]
  },
  {
   "cell_type": "code",
   "execution_count": 30,
   "metadata": {},
   "outputs": [],
   "source": [
    "############## TRAINING CODE\n",
    "#@jax.jit(static_argnames=[\"model\"])\n",
    "def loss_fn(params, nn_model, initial_state, snapshots, target, cosmo):\n",
    "    ode_fn = make_nn_stellar_ode_fn(mesh_shape, nn_model, params)\n",
    "    result = odeint(ode_fn, initial_state, snapshots, cosmo, rtol=1e-5, atol=1e-5)\n",
    "    pred_density = result[-1][-1]  # final stellar density\n",
    "    return jnp.mean((pred_density - target)**2)  # MSE loss\n",
    "\n",
    "#@jax.jit\n",
    "#@jax.jit(static_argnames=[\"nn_model\"])\n",
    "def train_step(params, model, initial_state, snapshots, target, cosmo):\n",
    "    grads = jax.grad(loss_fn)(params, model, initial_state, snapshots, target, cosmo)\n",
    "    return jax.tree_util.tree_map(lambda p, g: p - 1e-3 * g, params, grads)  # manual SGD\n",
    "\n",
    "\n",
    "loss_fn = jax.jit(loss_fn, static_argnames=[\"nn_model\"])\n",
    "train_step = jax.jit(train_step, static_argnames=[\"model\"])\n"
   ]
  },
  {
   "cell_type": "code",
   "execution_count": 36,
   "metadata": {},
   "outputs": [],
   "source": [
    "camels_baseline = np.load(\"/gpfs02/work/diffusion/gridsMstar/Grids_Mstar_IllustrisTNG_CV_128_z=0.0.npy\")\n",
    "camels_baseline_64 = camels_baseline.reshape(27, 64, 2, 64, 2, 64, 2).mean(axis=(2, 4, 6))"
   ]
  },
  {
   "cell_type": "code",
   "execution_count": 32,
   "metadata": {},
   "outputs": [
    {
     "ename": "NameError",
     "evalue": "name 'imshow' is not defined",
     "output_type": "error",
     "traceback": [
      "\u001b[0;31m---------------------------------------------------------------------------\u001b[0m",
      "\u001b[0;31mNameError\u001b[0m                                 Traceback (most recent call last)",
      "Cell \u001b[0;32mIn[32], line 1\u001b[0m\n\u001b[0;32m----> 1\u001b[0m \u001b[43mimshow\u001b[49m(np\u001b[38;5;241m.\u001b[39mlog10(camels_baseline[\u001b[38;5;241m0\u001b[39m]\u001b[38;5;241m.\u001b[39msum(axis\u001b[38;5;241m=\u001b[39m\u001b[38;5;241m0\u001b[39m)\u001b[38;5;241m+\u001b[39m\u001b[38;5;241m1\u001b[39m),vmin\u001b[38;5;241m=\u001b[39m\u001b[38;5;241m10\u001b[39m)\n",
      "\u001b[0;31mNameError\u001b[0m: name 'imshow' is not defined"
     ]
    }
   ],
   "source": [
    "imshow(np.log10(camels_baseline[0].sum(axis=0)+1),vmin=10)"
   ]
  },
  {
   "cell_type": "code",
   "execution_count": 33,
   "metadata": {},
   "outputs": [
    {
     "data": {
      "text/plain": [
       "'\\ndef train_step_fn(loss_fn):\\n    def train_step(params, initial_state, snapshots, target, cosmo):\\n        grads = jax.grad(loss_fn)(params, initial_state, snapshots, target, cosmo)\\n        return jax.tree_util.tree_map(lambda p, g: p - 1e-3 * g, params, grads)\\n    return jax.jit(train_step)  # no static_argnames needed now!\\n\\ndef make_loss_fn(nn_model, mesh_shape):\\n    def loss_fn(params, initial_state, snapshots, target, cosmo):\\n        ode_fn = make_ode_fn(nn_model, params, mesh_shape)\\n        result = odeint(ode_fn, initial_state, snapshots, cosmo, rtol=1e-5, atol=1e-5)\\n        pred_density = result[-1][-1]  # final stellar density\\n        return jnp.mean((pred_density - target)**2)  # MSE loss\\n    return jax.jit(loss_fn)\\n\\n\\n\\nrng = jax.random.PRNGKey(0)\\nmesh_shape = (64, 64, 64)\\nmodel = StarCNN(num_channels=1, num_layers=2, kernel_size=3)\\n\\ndummy_input = jnp.ones((1, 64, 64, 64, 1))  # batch=1, channels=1\\nparams = model.init(rng, dummy_input)\\n#params = model.init(rng, (particles + dx, p, jnp.zeros(mesh_shape)), 0.1, cosmo)\\n\\ninitial_state = (particles + dx, p, jnp.zeros(mesh_shape))\\ntarget = camels_baseline \\nsnapshots = jnp.array([0.1, 0.5, 1.0])\\n\\nloss_fn = make_loss_fn(model, mesh_shape)\\ntrain_step = train_step_fn(loss_fn)\\n\\nfor epoch in range(100):\\n    params = train_step(params, initial_state, snapshots, target, cosmo)\\n    if epoch % 10 == 0:\\n        loss_val = loss_fn(params, initial_state, snapshots, target, cosmo)\\n        print(f\"Epoch {epoch}: Loss = {loss_val:.6f}\")\\n'"
      ]
     },
     "execution_count": 33,
     "metadata": {},
     "output_type": "execute_result"
    }
   ],
   "source": [
    "'''\n",
    "def train_step_fn(loss_fn):\n",
    "    def train_step(params, initial_state, snapshots, target, cosmo):\n",
    "        grads = jax.grad(loss_fn)(params, initial_state, snapshots, target, cosmo)\n",
    "        return jax.tree_util.tree_map(lambda p, g: p - 1e-3 * g, params, grads)\n",
    "    return jax.jit(train_step)  # no static_argnames needed now!\n",
    "\n",
    "def make_loss_fn(nn_model, mesh_shape):\n",
    "    def loss_fn(params, initial_state, snapshots, target, cosmo):\n",
    "        ode_fn = make_ode_fn(nn_model, params, mesh_shape)\n",
    "        result = odeint(ode_fn, initial_state, snapshots, cosmo, rtol=1e-5, atol=1e-5)\n",
    "        pred_density = result[-1][-1]  # final stellar density\n",
    "        return jnp.mean((pred_density - target)**2)  # MSE loss\n",
    "    return jax.jit(loss_fn)\n",
    "\n",
    "\n",
    "\n",
    "rng = jax.random.PRNGKey(0)\n",
    "mesh_shape = (64, 64, 64)\n",
    "model = StarCNN(num_channels=1, num_layers=2, kernel_size=3)\n",
    "\n",
    "dummy_input = jnp.ones((1, 64, 64, 64, 1))  # batch=1, channels=1\n",
    "params = model.init(rng, dummy_input)\n",
    "#params = model.init(rng, (particles + dx, p, jnp.zeros(mesh_shape)), 0.1, cosmo)\n",
    "\n",
    "initial_state = (particles + dx, p, jnp.zeros(mesh_shape))\n",
    "target = camels_baseline \n",
    "snapshots = jnp.array([0.1, 0.5, 1.0])\n",
    "\n",
    "loss_fn = make_loss_fn(model, mesh_shape)\n",
    "train_step = train_step_fn(loss_fn)\n",
    "\n",
    "for epoch in range(100):\n",
    "    params = train_step(params, initial_state, snapshots, target, cosmo)\n",
    "    if epoch % 10 == 0:\n",
    "        loss_val = loss_fn(params, initial_state, snapshots, target, cosmo)\n",
    "        print(f\"Epoch {epoch}: Loss = {loss_val:.6f}\")\n",
    "'''"
   ]
  },
  {
   "cell_type": "code",
   "execution_count": 38,
   "metadata": {},
   "outputs": [],
   "source": [
    "mesh_shape = [64, 64, 64]\n",
    "box_size = [64., 64., 64.]\n",
    "snapshots = jnp.array([0.1, 0.5, 1.0])\n",
    "\n",
    "k = jnp.logspace(-4, 1, 128)\n",
    "pk = jc.power.linear_matter_power(jc.Planck15(Omega_c=0.2, sigma8=0.8), k)\n",
    "pk_fn = lambda x: jnp.interp(x.reshape([-1]), k, pk).reshape(x.shape)\n",
    "\n",
    "initial_conditions = linear_field(mesh_shape, box_size, pk_fn, seed=jax.random.PRNGKey(0))\n",
    "particles = jnp.stack(jnp.meshgrid(*[jnp.arange(s) for s in mesh_shape]),axis=-1).reshape([-1,3])\n",
    "cosmo = jc.Planck15(Omega_c=0.2, sigma8=0.8)\n",
    "dx, p, f = lpt(cosmo, initial_conditions, particles, a=0.1)\n",
    "\n",
    "rng = jax.random.PRNGKey(0)\n",
    "mesh_shape = (64, 64, 64)\n",
    "model = StarCNN(num_channels=1, num_layers=2, kernel_size=3)\n",
    "\n",
    "dummy_input = jnp.ones((1, 64, 64, 64, 1))  # batch=1, channels=1\n",
    "params = model.init(rng, dummy_input)\n",
    "#params = model.init(rng, (particles + dx, p, jnp.zeros(mesh_shape)), 0.1, cosmo)\n",
    "\n",
    "initial_state = (particles + dx, p, jnp.zeros(mesh_shape))\n",
    "target = camels_baseline_64[0]\n",
    "snapshots = jnp.array([0.1, 0.5, 1.0])\n"
   ]
  },
  {
   "cell_type": "code",
   "execution_count": null,
   "metadata": {},
   "outputs": [],
   "source": [
    "losses = []\n",
    "\n",
    "for epoch in range(100):\n",
    "    params = train_step(params, model, initial_state, snapshots, target, cosmo)\n",
    "    if epoch % 10 == 0:\n",
    "        loss_val = loss_fn(params, model, initial_state, snapshots, target, cosmo)\n",
    "        print(f\"Epoch {epoch}: Loss = {loss_val:.6f}\")\n",
    "        losses.append(float(loss_val))\n",
    "\n",
    "out_path = \"training/starcnn_params.pkl\"\n",
    "out_dir  = os.path.dirname(out_path)\n",
    "\n",
    "if out_dir and not os.path.exists(out_dir):\n",
    "    os.makedirs(out_dir, exist_ok=True)\n",
    "\n",
    "with open(out_path, \"wb\") as f:\n",
    "    pickle.dump({\"params\": params}, f)\n",
    "\n",
    "print(f\"Saved trained params to {out_path}\")\n"
   ]
  },
  {
   "cell_type": "code",
   "execution_count": null,
   "metadata": {},
   "outputs": [],
   "source": []
  },
  {
   "cell_type": "code",
   "execution_count": null,
   "metadata": {},
   "outputs": [],
   "source": []
  }
 ],
 "metadata": {
  "kernelspec": {
   "display_name": "jax-gpu",
   "language": "python",
   "name": "python3"
  },
  "language_info": {
   "codemirror_mode": {
    "name": "ipython",
    "version": 3
   },
   "file_extension": ".py",
   "mimetype": "text/x-python",
   "name": "python",
   "nbconvert_exporter": "python",
   "pygments_lexer": "ipython3",
   "version": "3.10.16"
  }
 },
 "nbformat": 4,
 "nbformat_minor": 2
}
